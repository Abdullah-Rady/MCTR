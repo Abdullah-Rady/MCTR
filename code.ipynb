{
 "cells": [
  {
   "cell_type": "code",
   "execution_count": 7,
   "metadata": {},
   "outputs": [],
   "source": [
    "import numpy as np"
   ]
  },
  {
   "cell_type": "code",
   "execution_count": 8,
   "metadata": {},
   "outputs": [],
   "source": [
    "# Function to calculate Euclidean distance between two 3D points\n",
    "def euclidean_distance(point1, point2):\n",
    "    return np.linalg.norm(np.array(point1) - np.array(point2))"
   ]
  },
  {
   "cell_type": "code",
   "execution_count": 10,
   "metadata": {},
   "outputs": [],
   "source": [
    "# Objective Function: Calculate the total distance for a single path x\n",
    "def calculate_single_path_distance(x, ps, pt):\n",
    "    num_points = len(x)\n",
    "    if num_points < 2:\n",
    "        return 0.0  # No movement if there are no control points\n",
    "\n",
    "    total_distance = euclidean_distance(ps, x[0])  # Distance from start to the first control point\n",
    "\n",
    "    # Distance between all control points\n",
    "    for i in range(1, num_points - 1):\n",
    "        total_distance += euclidean_distance(x[i], x[i + 1])\n",
    "\n",
    "    total_distance += euclidean_distance(x[-1], pt)  # Distance from the last control point to the target\n",
    "\n",
    "    return total_distance\n",
    "\n"
   ]
  },
  {
   "cell_type": "code",
   "execution_count": 11,
   "metadata": {},
   "outputs": [],
   "source": [
    "# Calculate the total distance for multiple drones' paths\n",
    "def calculate_total_distance(drone_paths, ps_list, pt_list):\n",
    "    total_distance = 0.0\n",
    "\n",
    "    for i in range(len(drone_paths)):\n",
    "        path = drone_paths[i]\n",
    "        ps = ps_list[i]\n",
    "        pt = pt_list[i]\n",
    "        total_distance += calculate_single_path_distance(path, ps, pt)\n",
    "\n",
    "    return total_distance\n"
   ]
  },
  {
   "cell_type": "code",
   "execution_count": 12,
   "metadata": {},
   "outputs": [
    {
     "name": "stdout",
     "output_type": "stream",
     "text": [
      "Total Distance for All Drones: 12.0\n"
     ]
    }
   ],
   "source": [
    "# Example usage:\n",
    "# Define paths for three drones\n",
    "drone1_path = [(0, 0, 0), (1, 0, 0), (1, 1, 0), (2, 1, 0)]\n",
    "drone2_path = [(0, 0, 0), (0, 1, 0), (1, 1, 0), (1, 2, 0)]\n",
    "drone3_path = [(0, 0, 0), (1, 0, 0), (1, 1, 0), (2, 1, 0)]\n",
    "\n",
    "# Define start and target points for the drones\n",
    "ps_list = [(0, 0, 0), (0, 0, 0), (0, 0, 0)]\n",
    "pt_list = [(2, 2, 0), (2, 2, 0), (2, 2, 0)]\n",
    "\n",
    "# Create a list of drone paths\n",
    "drone_paths = [drone1_path, drone2_path, drone3_path]\n",
    "\n",
    "# Calculate the total distance for all drones\n",
    "total_distance = calculate_total_distance(drone_paths, ps_list, pt_list)\n",
    "print(\"Total Distance for All Drones:\", total_distance)"
   ]
  },
  {
   "cell_type": "code",
   "execution_count": null,
   "metadata": {},
   "outputs": [],
   "source": []
  }
 ],
 "metadata": {
  "kernelspec": {
   "display_name": "Python 3",
   "language": "python",
   "name": "python3"
  },
  "language_info": {
   "codemirror_mode": {
    "name": "ipython",
    "version": 3
   },
   "file_extension": ".py",
   "mimetype": "text/x-python",
   "name": "python",
   "nbconvert_exporter": "python",
   "pygments_lexer": "ipython3",
   "version": "3.10.4"
  }
 },
 "nbformat": 4,
 "nbformat_minor": 2
}
